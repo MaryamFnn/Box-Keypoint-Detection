{
 "cells": [
  {
   "cell_type": "code",
   "execution_count": 1,
   "id": "6fb508d7-7e87-45c5-80df-614c11e54835",
   "metadata": {},
   "outputs": [
    {
     "name": "stderr",
     "output_type": "stream",
     "text": [
      "C:\\Users\\Administrator\\anaconda3\\envs\\box\\lib\\site-packages\\tqdm\\auto.py:22: TqdmWarning: IProgress not found. Please update jupyter and ipywidgets. See https://ipywidgets.readthedocs.io/en/stable/user_install.html\n",
      "  from .autonotebook import tqdm as notebook_tqdm\n"
     ]
    }
   ],
   "source": [
    "import mydataset\n",
    "import transform\n",
    "from torch.utils.data import DataLoader, Dataset"
   ]
  },
  {
   "cell_type": "code",
   "execution_count": 3,
   "id": "aeea0200-1ff3-41bc-84b9-65850468a28d",
   "metadata": {},
   "outputs": [
    {
     "name": "stdout",
     "output_type": "stream",
     "text": [
      "range(0, 200)\n",
      "0\n",
      "1\n",
      "2\n",
      "3\n",
      "4\n",
      "5\n",
      "6\n",
      "7\n",
      "8\n",
      "9\n",
      "10\n",
      "11\n",
      "12\n",
      "13\n",
      "14\n",
      "15\n",
      "16\n",
      "17\n",
      "18\n",
      "19\n",
      "20\n",
      "21\n",
      "22\n",
      "23\n",
      "24\n",
      "25\n",
      "26\n",
      "27\n",
      "28\n",
      "29\n",
      "30\n",
      "31\n",
      "32\n",
      "33\n",
      "34\n",
      "35\n",
      "36\n",
      "37\n",
      "38\n",
      "39\n",
      "40\n",
      "41\n",
      "42\n",
      "43\n",
      "44\n",
      "45\n",
      "46\n",
      "47\n",
      "48\n",
      "49\n",
      "50\n",
      "51\n",
      "52\n",
      "53\n",
      "54\n",
      "55\n",
      "56\n",
      "57\n",
      "58\n",
      "59\n",
      "60\n",
      "61\n",
      "62\n",
      "63\n",
      "64\n",
      "65\n",
      "66\n",
      "67\n",
      "68\n",
      "69\n",
      "70\n",
      "71\n",
      "72\n",
      "73\n",
      "74\n",
      "75\n",
      "76\n",
      "77\n",
      "78\n",
      "79\n",
      "80\n",
      "81\n",
      "82\n",
      "83\n",
      "84\n",
      "85\n",
      "86\n",
      "87\n",
      "88\n",
      "89\n",
      "90\n",
      "91\n",
      "92\n",
      "93\n",
      "94\n",
      "95\n",
      "96\n",
      "97\n",
      "98\n",
      "99\n",
      "100\n",
      "101\n",
      "102\n",
      "103\n",
      "104\n",
      "105\n",
      "106\n",
      "107\n",
      "108\n",
      "109\n",
      "110\n",
      "111\n",
      "112\n",
      "113\n",
      "114\n",
      "115\n",
      "116\n",
      "117\n",
      "118\n",
      "119\n",
      "120\n",
      "121\n",
      "122\n",
      "123\n",
      "124\n",
      "125\n",
      "126\n",
      "127\n",
      "128\n",
      "129\n",
      "130\n",
      "131\n",
      "132\n",
      "133\n",
      "134\n",
      "135\n",
      "136\n",
      "137\n",
      "138\n",
      "139\n",
      "140\n",
      "141\n",
      "142\n",
      "143\n",
      "144\n",
      "145\n",
      "146\n",
      "147\n",
      "148\n",
      "149\n",
      "150\n",
      "151\n",
      "152\n",
      "153\n",
      "154\n",
      "155\n",
      "156\n",
      "157\n",
      "158\n",
      "159\n",
      "160\n",
      "161\n",
      "162\n",
      "163\n",
      "164\n",
      "165\n",
      "166\n",
      "167\n",
      "168\n",
      "169\n",
      "170\n",
      "171\n",
      "172\n",
      "173\n",
      "174\n",
      "175\n",
      "176\n",
      "177\n",
      "178\n",
      "179\n",
      "180\n",
      "181\n",
      "182\n",
      "183\n",
      "184\n",
      "185\n",
      "186\n",
      "187\n",
      "188\n",
      "189\n",
      "190\n",
      "191\n",
      "192\n",
      "193\n",
      "194\n",
      "195\n",
      "196\n",
      "197\n",
      "198\n",
      "199\n",
      "range(200, 250)\n",
      "200\n",
      "201\n",
      "202\n",
      "203\n",
      "204\n",
      "205\n",
      "206\n",
      "207\n",
      "208\n",
      "209\n",
      "210\n",
      "211\n",
      "212\n",
      "213\n",
      "214\n",
      "215\n",
      "216\n",
      "217\n",
      "218\n",
      "219\n",
      "220\n",
      "221\n",
      "222\n",
      "223\n",
      "224\n",
      "225\n",
      "226\n",
      "227\n",
      "228\n",
      "229\n",
      "230\n",
      "231\n",
      "232\n",
      "233\n",
      "234\n",
      "235\n",
      "236\n",
      "237\n",
      "238\n",
      "239\n",
      "240\n",
      "241\n",
      "242\n",
      "243\n",
      "244\n",
      "245\n",
      "246\n",
      "247\n",
      "248\n",
      "249\n"
     ]
    }
   ],
   "source": [
    "DIR = r'C:\\\\Users\\Administrator\\Desktop\\AIOR_Group\\\\Project1\\src\\box_dataset'\n",
    "triandataobj = mydataset.MyDataset(img_dir = DIR, annotation_file = 'dataset.json', transform = transform.data_transform, datatype = 'train')\n",
    "testdataobj = mydataset.MyDataset(img_dir = DIR, annotation_file = 'dataset.json', transform = transform.data_transform, datatype = 'test')"
   ]
  },
  {
   "cell_type": "code",
   "execution_count": 3,
   "id": "2b8494b2-3b36-4c4b-8227-02372c4d4425",
   "metadata": {},
   "outputs": [
    {
     "data": {
      "text/plain": [
       "<mydataset.MyDataset at 0x1aa755e94f0>"
      ]
     },
     "execution_count": 3,
     "metadata": {},
     "output_type": "execute_result"
    }
   ],
   "source": [
    "triandataobj"
   ]
  },
  {
   "cell_type": "code",
   "execution_count": 4,
   "id": "c3582eaf-61b2-4db1-8e37-4f04b27278cf",
   "metadata": {},
   "outputs": [
    {
     "data": {
      "text/plain": [
       "mydataset.MyDataset"
      ]
     },
     "execution_count": 4,
     "metadata": {},
     "output_type": "execute_result"
    }
   ],
   "source": [
    "type(triandataobj)"
   ]
  },
  {
   "cell_type": "code",
   "execution_count": 5,
   "id": "15f41c9e-9b22-445d-8c2e-8e599d0eed78",
   "metadata": {
    "tags": []
   },
   "outputs": [
    {
     "data": {
      "text/plain": [
       "'box0.png'"
      ]
     },
     "execution_count": 5,
     "metadata": {},
     "output_type": "execute_result"
    }
   ],
   "source": [
    "triandataobj.img_label[0]"
   ]
  },
  {
   "cell_type": "code",
   "execution_count": 6,
   "id": "03ac3501-b462-4255-ab84-f0ff4bd8baa4",
   "metadata": {},
   "outputs": [
    {
     "data": {
      "text/plain": [
       "[[0.5514724254608154, 0.3520905375480652],\n",
       " [0.34643998742103577, 0.46924370527267456],\n",
       " [0.4485275447368622, 0.6479094624519348],\n",
       " [0.6535599827766418, 0.5307562947273254]]"
      ]
     },
     "execution_count": 6,
     "metadata": {},
     "output_type": "execute_result"
    }
   ],
   "source": [
    "triandataobj.corner_keypoints[0]"
   ]
  },
  {
   "cell_type": "code",
   "execution_count": 7,
   "id": "1ce04574-5822-4d84-876f-ef3052a7bb4e",
   "metadata": {},
   "outputs": [
    {
     "data": {
      "text/plain": [
       "199"
      ]
     },
     "execution_count": 7,
     "metadata": {},
     "output_type": "execute_result"
    }
   ],
   "source": [
    "len(triandataobj)"
   ]
  },
  {
   "cell_type": "code",
   "execution_count": 19,
   "id": "ae64f564-0343-4516-b79f-e50a53603b30",
   "metadata": {},
   "outputs": [
    {
     "data": {
      "text/plain": [
       "torch.Size([256, 256, 3])"
      ]
     },
     "execution_count": 19,
     "metadata": {},
     "output_type": "execute_result"
    }
   ],
   "source": [
    "(triandataobj[10]['image'].shape)"
   ]
  },
  {
   "cell_type": "code",
   "execution_count": 46,
   "id": "7141835d-4bb6-438f-9009-2f4fb60ebfcf",
   "metadata": {},
   "outputs": [],
   "source": [
    "train_dataloader = DataLoader(triandataobj, batch_size=20, shuffle=True)"
   ]
  },
  {
   "cell_type": "code",
   "execution_count": 34,
   "id": "959f0be2-a5b1-4bef-8452-7b4e7b8f9083",
   "metadata": {},
   "outputs": [
    {
     "data": {
      "text/plain": [
       "torch.utils.data.dataloader.DataLoader"
      ]
     },
     "execution_count": 34,
     "metadata": {},
     "output_type": "execute_result"
    }
   ],
   "source": [
    "type(train_dataloader)"
   ]
  },
  {
   "cell_type": "code",
   "execution_count": 41,
   "id": "587dfff7-cba6-4fca-864b-c4275b60a037",
   "metadata": {
    "tags": []
   },
   "outputs": [
    {
     "name": "stdout",
     "output_type": "stream",
     "text": [
      "3\n",
      "<class 'list'>\n",
      "3\n",
      "<class 'list'>\n",
      "3\n",
      "<class 'list'>\n",
      "3\n",
      "<class 'list'>\n",
      "3\n",
      "<class 'list'>\n",
      "3\n",
      "<class 'list'>\n",
      "3\n",
      "<class 'list'>\n",
      "3\n",
      "<class 'list'>\n",
      "3\n",
      "<class 'list'>\n",
      "3\n",
      "<class 'list'>\n"
     ]
    }
   ],
   "source": [
    "for data in train_dataloader:\n",
    "    print(len((data)))\n",
    "    print(type((data['labels'])))\n",
    "    "
   ]
  },
  {
   "cell_type": "code",
   "execution_count": 45,
   "id": "e9a0f78f-5fb3-4205-aece-3b83598694f2",
   "metadata": {},
   "outputs": [
    {
     "data": {
      "text/plain": [
       "[1, 2, 3]"
      ]
     },
     "execution_count": 45,
     "metadata": {},
     "output_type": "execute_result"
    }
   ],
   "source": [
    "portion = range(1,4)\n",
    "list(portion)"
   ]
  },
  {
   "cell_type": "code",
   "execution_count": null,
   "id": "28a4bbeb-7f81-406a-b816-ae0b9bfacda9",
   "metadata": {},
   "outputs": [],
   "source": []
  }
 ],
 "metadata": {
  "kernelspec": {
   "display_name": "Python [conda env:box]",
   "language": "python",
   "name": "conda-env-box-py"
  },
  "language_info": {
   "codemirror_mode": {
    "name": "ipython",
    "version": 3
   },
   "file_extension": ".py",
   "mimetype": "text/x-python",
   "name": "python",
   "nbconvert_exporter": "python",
   "pygments_lexer": "ipython3",
   "version": "3.8.13"
  }
 },
 "nbformat": 4,
 "nbformat_minor": 5
}
