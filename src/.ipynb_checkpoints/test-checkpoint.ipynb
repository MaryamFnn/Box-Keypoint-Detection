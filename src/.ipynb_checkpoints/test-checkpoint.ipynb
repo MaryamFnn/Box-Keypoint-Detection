{
 "cells": [
  {
   "cell_type": "code",
   "execution_count": 3,
   "id": "2d43a5bb-395f-46d2-91d6-4106ec1ea0bd",
   "metadata": {},
   "outputs": [],
   "source": [
    "import os\n",
    "import cv2 as cv\n",
    "import numpy as np\n",
    "import json"
   ]
  },
  {
   "cell_type": "code",
   "execution_count": 4,
   "id": "126995e5-b537-4e5b-84fc-3269cb803fed",
   "metadata": {},
   "outputs": [],
   "source": [
    "DIR = r'C:\\Users\\Administrator\\Desktop\\AIOR_Group\\Project1\\src\\box_dataset'\n",
    "files_imgs = sorted(os.listdir(os.path.join(DIR, 'images')))\n",
    "files_imgs = [os.path.join(DIR, 'images', f) for f in files_imgs]"
   ]
  },
  {
   "cell_type": "code",
   "execution_count": 39,
   "id": "bbc19e31-d9c2-4f93-bbf9-4fe7e509f606",
   "metadata": {},
   "outputs": [],
   "source": [
    "with open (os.path.join(DIR,'dataset.json')) as f:\n",
    "    keypoints_data = json.load(f)\n",
    "    keypoints_data = keypoints_data['dataset']"
   ]
  },
  {
   "cell_type": "code",
   "execution_count": 41,
   "id": "3f691016-dfb3-4300-8a13-2859fe1bafcb",
   "metadata": {},
   "outputs": [
    {
     "ename": "TypeError",
     "evalue": "list indices must be integers or slices, not dict",
     "output_type": "error",
     "traceback": [
      "\u001b[1;31m---------------------------------------------------------------------------\u001b[0m",
      "\u001b[1;31mTypeError\u001b[0m                                 Traceback (most recent call last)",
      "Input \u001b[1;32mIn [41]\u001b[0m, in \u001b[0;36m<cell line: 3>\u001b[1;34m()\u001b[0m\n\u001b[0;32m      2\u001b[0m cornerpoints \u001b[38;5;241m=\u001b[39m []\n\u001b[0;32m      3\u001b[0m \u001b[38;5;28;01mfor\u001b[39;00m i \u001b[38;5;129;01min\u001b[39;00m keypoints_data:\n\u001b[1;32m----> 4\u001b[0m     data \u001b[38;5;241m=\u001b[39m \u001b[43mkeypoints_data\u001b[49m\u001b[43m[\u001b[49m\u001b[43mi\u001b[49m\u001b[43m]\u001b[49m\n\u001b[0;32m      5\u001b[0m     path\u001b[38;5;241m.\u001b[39mappend(data[\u001b[38;5;124m'\u001b[39m\u001b[38;5;124mimage_path\u001b[39m\u001b[38;5;124m'\u001b[39m])\n\u001b[0;32m      6\u001b[0m     cornerpoints\u001b[38;5;241m.\u001b[39mappend(data[\u001b[38;5;124m'\u001b[39m\u001b[38;5;124mcorner_keypoints\u001b[39m\u001b[38;5;124m'\u001b[39m])\n",
      "\u001b[1;31mTypeError\u001b[0m: list indices must be integers or slices, not dict"
     ]
    }
   ],
   "source": [
    "path = []\n",
    "cornerpoints = []\n",
    "for i in keypoints_data:\n",
    "    print i\n",
    "    data = keypoints_data[i]\n",
    "    path.append(data['image_path'])\n",
    "    cornerpoints.append(data['corner_keypoints'])\n",
    "keypoints_contents  = zip(path,cornerpoints)\n"
   ]
  },
  {
   "cell_type": "code",
   "execution_count": 38,
   "id": "23859d7d-5673-407e-8985-72a311530de4",
   "metadata": {},
   "outputs": [
    {
     "data": {
      "text/plain": [
       "-1"
      ]
     },
     "execution_count": 38,
     "metadata": {},
     "output_type": "execute_result"
    }
   ],
   "source": [
    "x = np.random.randint(low=0, high=len(path))\n",
    "\n",
    "img = cv.imread(os.path.join(DIR,path[x]))\n",
    "#blank = np.zeros((200,200,3), dtype='uint8')\n",
    "pts = np.array(256*cornerpoints[x], np.int32)\n",
    "pts = pts.reshape((-1,1,2))\n",
    "cv.polylines(img,[pts],True,(0,255,0),thickness=2)\n",
    "\n",
    "\n",
    "cv.imshow('sample', img)\n",
    "\n",
    "cv.waitKey(0)\n",
    "\n",
    "\n",
    "\n",
    "\n",
    "\n"
   ]
  },
  {
   "cell_type": "code",
   "execution_count": 37,
   "id": "4523e330-725b-497b-aee4-0e5c0b48397a",
   "metadata": {},
   "outputs": [
    {
     "data": {
      "text/plain": [
       "(256, 256, 3)"
      ]
     },
     "execution_count": 37,
     "metadata": {},
     "output_type": "execute_result"
    }
   ],
   "source": [
    "img.shape"
   ]
  },
  {
   "cell_type": "code",
   "execution_count": 43,
   "id": "016d64aa-0053-46cc-a8e0-5b34019f81ac",
   "metadata": {},
   "outputs": [],
   "source": [
    "a='skdfb\\knsdjv'"
   ]
  },
  {
   "cell_type": "code",
   "execution_count": 44,
   "id": "d3e3f54c-ce33-4d47-a5d2-165fba643403",
   "metadata": {},
   "outputs": [
    {
     "data": {
      "text/plain": [
       "'skdfb\\\\knsdjv'"
      ]
     },
     "execution_count": 44,
     "metadata": {},
     "output_type": "execute_result"
    }
   ],
   "source": [
    "a\n"
   ]
  },
  {
   "cell_type": "code",
   "execution_count": 49,
   "id": "fcf39735-b401-4f0a-bcc1-4dfec193308c",
   "metadata": {},
   "outputs": [
    {
     "data": {
      "text/plain": [
       "'knsdjv'"
      ]
     },
     "execution_count": 49,
     "metadata": {},
     "output_type": "execute_result"
    }
   ],
   "source": [
    "a.split('\\\\')[1]"
   ]
  },
  {
   "cell_type": "code",
   "execution_count": null,
   "id": "b0827f05-6f3f-4c74-b58a-09460ef0a584",
   "metadata": {},
   "outputs": [],
   "source": []
  }
 ],
 "metadata": {
  "kernelspec": {
   "display_name": "Python [conda env:box]",
   "language": "python",
   "name": "conda-env-box-py"
  },
  "language_info": {
   "codemirror_mode": {
    "name": "ipython",
    "version": 3
   },
   "file_extension": ".py",
   "mimetype": "text/x-python",
   "name": "python",
   "nbconvert_exporter": "python",
   "pygments_lexer": "ipython3",
   "version": "3.8.13"
  }
 },
 "nbformat": 4,
 "nbformat_minor": 5
}
