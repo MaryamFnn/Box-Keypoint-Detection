{
 "cells": [
  {
   "cell_type": "code",
   "execution_count": 3,
   "id": "2d43a5bb-395f-46d2-91d6-4106ec1ea0bd",
   "metadata": {},
   "outputs": [],
   "source": [
    "import os\n",
    "import cv2 as cv\n",
    "import numpy as np\n",
    "import json"
   ]
  },
  {
   "cell_type": "code",
   "execution_count": 4,
   "id": "126995e5-b537-4e5b-84fc-3269cb803fed",
   "metadata": {},
   "outputs": [],
   "source": [
    "DIR = r'C:\\Users\\Administrator\\Desktop\\AIOR_Group\\Project1\\src\\box_dataset'\n",
    "files_imgs = sorted(os.listdir(os.path.join(DIR, 'images')))\n",
    "files_imgs = [os.path.join(DIR, 'images', f) for f in files_imgs]"
   ]
  },
  {
   "cell_type": "code",
   "execution_count": 5,
   "id": "bbc19e31-d9c2-4f93-bbf9-4fe7e509f606",
   "metadata": {},
   "outputs": [],
   "source": [
    "with open (os.path.join(DIR,'dataset.json')) as f:\n",
    "    keypoints_data = json.load(f)\n",
    "    keypoints_data = keypoints_data['dataset']"
   ]
  },
  {
   "cell_type": "code",
   "execution_count": 6,
   "id": "3f691016-dfb3-4300-8a13-2859fe1bafcb",
   "metadata": {},
   "outputs": [],
   "source": [
    "path = []\n",
    "cornerpoints = []\n",
    "for i in range(0,len(keypoints_data)):\n",
    "    data = keypoints_data[i]\n",
    "    path.append(data['image_path'])\n",
    "    cornerpoints.append(data['corner_keypoints'])\n",
    "keypoints_contents  = zip(path,cornerpoints)\n"
   ]
  },
  {
   "cell_type": "code",
   "execution_count": 16,
   "id": "23859d7d-5673-407e-8985-72a311530de4",
   "metadata": {},
   "outputs": [
    {
     "ename": "SyntaxError",
     "evalue": "invalid syntax (3708072757.py, line 4)",
     "output_type": "error",
     "traceback": [
      "\u001b[1;36m  Input \u001b[1;32mIn [16]\u001b[1;36m\u001b[0m\n\u001b[1;33m    img=np.zeros((00:100, np.int32)\u001b[0m\n\u001b[1;37m                    ^\u001b[0m\n\u001b[1;31mSyntaxError\u001b[0m\u001b[1;31m:\u001b[0m invalid syntax\n"
     ]
    }
   ],
   "source": [
    "x = np.random.randint(low=0, high=len(path))\n",
    "\n",
    "img= cv.imread(os.path.join(DIR,path[x]))\n",
    "img=np.zeros((00:100, np.int32)\n",
    "pts = np.array([[10,5],[20,30],[70,20],[50,10]], np.int32)\n",
    "ts = pts.reshape((-1,1,2))\n",
    "cv.polylines(img,[ts],True,(0,255,0),thickness=2)\n",
    "\n",
    "\n",
    "cv.imshow('sample', img)\n",
    "\n",
    "cv.waitKey(0)\n",
    "\n",
    "\n",
    "\n",
    "\n",
    "\n"
   ]
  },
  {
   "cell_type": "code",
   "execution_count": 13,
   "id": "4523e330-725b-497b-aee4-0e5c0b48397a",
   "metadata": {},
   "outputs": [
    {
     "data": {
      "text/plain": [
       "[[0.6893450021743774, 0.5842962265014648],\n",
       " [0.5596591234207153, 0.3015102744102478],\n",
       " [0.31065502762794495, 0.41570377349853516],\n",
       " [0.44034087657928467, 0.6984897255897522]]"
      ]
     },
     "execution_count": 13,
     "metadata": {},
     "output_type": "execute_result"
    }
   ],
   "source": [
    "cornerpoints[x]"
   ]
  },
  {
   "cell_type": "code",
   "execution_count": null,
   "id": "016d64aa-0053-46cc-a8e0-5b34019f81ac",
   "metadata": {},
   "outputs": [],
   "source": []
  }
 ],
 "metadata": {
  "kernelspec": {
   "display_name": "Python [conda env:box]",
   "language": "python",
   "name": "conda-env-box-py"
  },
  "language_info": {
   "codemirror_mode": {
    "name": "ipython",
    "version": 3
   },
   "file_extension": ".py",
   "mimetype": "text/x-python",
   "name": "python",
   "nbconvert_exporter": "python",
   "pygments_lexer": "ipython3",
   "version": "3.8.13"
  }
 },
 "nbformat": 4,
 "nbformat_minor": 5
}
