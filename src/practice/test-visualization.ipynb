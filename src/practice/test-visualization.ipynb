{
 "cells": [
  {
   "cell_type": "code",
   "execution_count": 3,
   "id": "2d43a5bb-395f-46d2-91d6-4106ec1ea0bd",
   "metadata": {},
   "outputs": [],
   "source": [
    "import os\n",
    "import cv2 as cv\n",
    "import numpy as np\n",
    "import json"
   ]
  },
  {
   "cell_type": "code",
   "execution_count": 10,
   "id": "c2e0ad89-69b9-4239-baf6-2f598160ed73",
   "metadata": {},
   "outputs": [],
   "source": [
    "files_imgs = [os.path.join(DIR, 'images', f) for f in files_imgs]"
   ]
  },
  {
   "cell_type": "code",
   "execution_count": 11,
   "id": "bbc19e31-d9c2-4f93-bbf9-4fe7e509f606",
   "metadata": {},
   "outputs": [],
   "source": [
    "with open (os.path.join(DIR,'dataset.json')) as f:\n",
    "    keypoints_data = json.load(f)\n",
    "    keypoints_data = keypoints_data['dataset']"
   ]
  },
  {
   "cell_type": "code",
   "execution_count": 14,
   "id": "3f691016-dfb3-4300-8a13-2859fe1bafcb",
   "metadata": {},
   "outputs": [],
   "source": [
    "path = []\n",
    "cornerpoints = []\n",
    "for i in range(0,len(keypoints_data)):\n",
    " \n",
    "    data = keypoints_data[i]\n",
    "    path.append(data['image_path'])\n",
    "    corners = data['corner_keypoints']\n",
    "    corners2 = list(map(lambda j : j[::-1] , corners))\n",
    "    cornerpoints.append(corners2)\n",
    "   \n",
    "    keypoints_contents  = zip(path,cornerpoints)\n"
   ]
  },
  {
   "cell_type": "code",
   "execution_count": 21,
   "id": "95e8c394-8d36-4f7e-a288-19c04e8a94be",
   "metadata": {},
   "outputs": [
    {
     "data": {
      "text/plain": [
       "['box0',\n",
       " 'box1',\n",
       " 'box2',\n",
       " 'box3',\n",
       " 'box4',\n",
       " 'box5',\n",
       " 'box6',\n",
       " 'box7',\n",
       " 'box8',\n",
       " 'box9',\n",
       " 'box10',\n",
       " 'box11',\n",
       " 'box12',\n",
       " 'box13',\n",
       " 'box14',\n",
       " 'box15',\n",
       " 'box16',\n",
       " 'box17',\n",
       " 'box18',\n",
       " 'box19',\n",
       " 'box20',\n",
       " 'box21',\n",
       " 'box22',\n",
       " 'box23',\n",
       " 'box24',\n",
       " 'box25',\n",
       " 'box26',\n",
       " 'box27',\n",
       " 'box28',\n",
       " 'box29',\n",
       " 'box30',\n",
       " 'box31',\n",
       " 'box32',\n",
       " 'box33',\n",
       " 'box34',\n",
       " 'box35',\n",
       " 'box36',\n",
       " 'box37',\n",
       " 'box38',\n",
       " 'box39',\n",
       " 'box40',\n",
       " 'box41',\n",
       " 'box42',\n",
       " 'box43',\n",
       " 'box44',\n",
       " 'box45',\n",
       " 'box46',\n",
       " 'box47',\n",
       " 'box48',\n",
       " 'box49',\n",
       " 'box50',\n",
       " 'box51',\n",
       " 'box52',\n",
       " 'box53',\n",
       " 'box54',\n",
       " 'box55',\n",
       " 'box56',\n",
       " 'box57',\n",
       " 'box58',\n",
       " 'box59',\n",
       " 'box60',\n",
       " 'box61',\n",
       " 'box62',\n",
       " 'box63',\n",
       " 'box64',\n",
       " 'box65',\n",
       " 'box66',\n",
       " 'box67',\n",
       " 'box68',\n",
       " 'box69',\n",
       " 'box70',\n",
       " 'box71',\n",
       " 'box72',\n",
       " 'box73',\n",
       " 'box74',\n",
       " 'box75',\n",
       " 'box76',\n",
       " 'box77',\n",
       " 'box78',\n",
       " 'box79',\n",
       " 'box80',\n",
       " 'box81',\n",
       " 'box82',\n",
       " 'box83',\n",
       " 'box84',\n",
       " 'box85',\n",
       " 'box86',\n",
       " 'box87',\n",
       " 'box88',\n",
       " 'box89',\n",
       " 'box90',\n",
       " 'box91',\n",
       " 'box92',\n",
       " 'box93',\n",
       " 'box94',\n",
       " 'box95',\n",
       " 'box96',\n",
       " 'box97',\n",
       " 'box98',\n",
       " 'box99',\n",
       " 'box100',\n",
       " 'box101',\n",
       " 'box102',\n",
       " 'box103',\n",
       " 'box104',\n",
       " 'box105',\n",
       " 'box106',\n",
       " 'box107',\n",
       " 'box108',\n",
       " 'box109',\n",
       " 'box110',\n",
       " 'box111',\n",
       " 'box112',\n",
       " 'box113',\n",
       " 'box114',\n",
       " 'box115',\n",
       " 'box116',\n",
       " 'box117',\n",
       " 'box118',\n",
       " 'box119',\n",
       " 'box120',\n",
       " 'box121',\n",
       " 'box122',\n",
       " 'box123',\n",
       " 'box124',\n",
       " 'box125',\n",
       " 'box126',\n",
       " 'box127',\n",
       " 'box128',\n",
       " 'box129',\n",
       " 'box130',\n",
       " 'box131',\n",
       " 'box132',\n",
       " 'box133',\n",
       " 'box134',\n",
       " 'box135',\n",
       " 'box136',\n",
       " 'box137',\n",
       " 'box138',\n",
       " 'box139',\n",
       " 'box140',\n",
       " 'box141',\n",
       " 'box142',\n",
       " 'box143',\n",
       " 'box144',\n",
       " 'box145',\n",
       " 'box146',\n",
       " 'box147',\n",
       " 'box148',\n",
       " 'box149',\n",
       " 'box150',\n",
       " 'box151',\n",
       " 'box152',\n",
       " 'box153',\n",
       " 'box154',\n",
       " 'box155',\n",
       " 'box156',\n",
       " 'box157',\n",
       " 'box158',\n",
       " 'box159',\n",
       " 'box160',\n",
       " 'box161',\n",
       " 'box162',\n",
       " 'box163',\n",
       " 'box164',\n",
       " 'box165',\n",
       " 'box166',\n",
       " 'box167',\n",
       " 'box168',\n",
       " 'box169',\n",
       " 'box170',\n",
       " 'box171',\n",
       " 'box172',\n",
       " 'box173',\n",
       " 'box174',\n",
       " 'box175',\n",
       " 'box176',\n",
       " 'box177',\n",
       " 'box178',\n",
       " 'box179',\n",
       " 'box180',\n",
       " 'box181',\n",
       " 'box182',\n",
       " 'box183',\n",
       " 'box184',\n",
       " 'box185',\n",
       " 'box186',\n",
       " 'box187',\n",
       " 'box188',\n",
       " 'box189',\n",
       " 'box190',\n",
       " 'box191',\n",
       " 'box192',\n",
       " 'box193',\n",
       " 'box194',\n",
       " 'box195',\n",
       " 'box196',\n",
       " 'box197',\n",
       " 'box198',\n",
       " 'box199',\n",
       " 'box200',\n",
       " 'box201',\n",
       " 'box202',\n",
       " 'box203',\n",
       " 'box204',\n",
       " 'box205',\n",
       " 'box206',\n",
       " 'box207',\n",
       " 'box208',\n",
       " 'box209',\n",
       " 'box210',\n",
       " 'box211',\n",
       " 'box212',\n",
       " 'box213',\n",
       " 'box214',\n",
       " 'box215',\n",
       " 'box216',\n",
       " 'box217',\n",
       " 'box218',\n",
       " 'box219',\n",
       " 'box220',\n",
       " 'box221',\n",
       " 'box222',\n",
       " 'box223',\n",
       " 'box224',\n",
       " 'box225',\n",
       " 'box226',\n",
       " 'box227',\n",
       " 'box228',\n",
       " 'box229',\n",
       " 'box230',\n",
       " 'box231',\n",
       " 'box232',\n",
       " 'box233',\n",
       " 'box234',\n",
       " 'box235',\n",
       " 'box236',\n",
       " 'box237',\n",
       " 'box238',\n",
       " 'box239',\n",
       " 'box240',\n",
       " 'box241',\n",
       " 'box242',\n",
       " 'box243',\n",
       " 'box244',\n",
       " 'box245',\n",
       " 'box246',\n",
       " 'box247',\n",
       " 'box248',\n",
       " 'box249']"
      ]
     },
     "execution_count": 21,
     "metadata": {},
     "output_type": "execute_result"
    }
   ],
   "source": [
    "path = list(map(lambda i : (i.split('/')[0]).split('.')[0] ,path))\n",
    "path"
   ]
  },
  {
   "cell_type": "code",
   "execution_count": 49,
   "id": "8e71e720-1c1b-4422-aff9-d5598d060f90",
   "metadata": {},
   "outputs": [
    {
     "data": {
      "text/plain": [
       "[[0.3520905375480652, 0.5514724254608154],\n",
       " [0.46924370527267456, 0.34643998742103577],\n",
       " [0.6479094624519348, 0.4485275447368622],\n",
       " [0.5307562947273254, 0.6535599827766418]]"
      ]
     },
     "execution_count": 49,
     "metadata": {},
     "output_type": "execute_result"
    }
   ],
   "source": [
    "cornerpoints[0]"
   ]
  },
  {
   "cell_type": "code",
   "execution_count": 50,
   "id": "aa38559e-2856-429e-b7f6-50a40d712997",
   "metadata": {},
   "outputs": [
    {
     "data": {
      "text/plain": [
       "[[0.5514724254608154, 0.3520905375480652],\n",
       " [0.34643998742103577, 0.46924370527267456],\n",
       " [0.4485275447368622, 0.6479094624519348],\n",
       " [0.6535599827766418, 0.5307562947273254]]"
      ]
     },
     "execution_count": 50,
     "metadata": {},
     "output_type": "execute_result"
    }
   ],
   "source": [
    "data = keypoints_data[0]\n",
    "a = data['corner_keypoints']\n",
    "a"
   ]
  },
  {
   "cell_type": "code",
   "execution_count": 51,
   "id": "76bfa172-32f5-4ab3-a816-898ae0efdca3",
   "metadata": {},
   "outputs": [
    {
     "data": {
      "text/plain": [
       "array([[141.17694,  90.13518],\n",
       "       [ 88.68864, 120.12639],\n",
       "       [114.82305, 165.86482],\n",
       "       [167.31136, 135.87361]], dtype=float32)"
      ]
     },
     "execution_count": 51,
     "metadata": {},
     "output_type": "execute_result"
    }
   ],
   "source": [
    "pts = np.array(a, np.float32)\n",
    "\n",
    "pts = np.multiply(pts,256)\n",
    "pts "
   ]
  },
  {
   "cell_type": "code",
   "execution_count": 52,
   "id": "26401337-660d-4a4f-a912-557b098a9d9f",
   "metadata": {},
   "outputs": [
    {
     "data": {
      "text/plain": [
       "165.8648223876953"
      ]
     },
     "execution_count": 52,
     "metadata": {},
     "output_type": "execute_result"
    }
   ],
   "source": [
    "256-pts[0][1]"
   ]
  },
  {
   "cell_type": "code",
   "execution_count": 53,
   "id": "a56ef6ca-a251-4b72-87d3-4bf8036dbdbe",
   "metadata": {},
   "outputs": [],
   "source": [
    "for i in range(0,len(pts)):\n",
    "    pts[i][1] = 256-pts[i][1]"
   ]
  },
  {
   "cell_type": "code",
   "execution_count": 54,
   "id": "e25eee64-5bfb-4091-8d05-505fee693062",
   "metadata": {},
   "outputs": [
    {
     "data": {
      "text/plain": [
       "array([[141.17694, 165.86482],\n",
       "       [ 88.68864, 135.87361],\n",
       "       [114.82305,  90.13518],\n",
       "       [167.31136, 120.12639]], dtype=float32)"
      ]
     },
     "execution_count": 54,
     "metadata": {},
     "output_type": "execute_result"
    }
   ],
   "source": [
    "pts"
   ]
  },
  {
   "cell_type": "code",
   "execution_count": 55,
   "id": "7f183f16-b2de-43a8-9242-c78fb1b6d8f6",
   "metadata": {},
   "outputs": [
    {
     "data": {
      "text/plain": [
       "array([[[141, 165]],\n",
       "\n",
       "       [[ 88, 135]],\n",
       "\n",
       "       [[114,  90]],\n",
       "\n",
       "       [[167, 120]]])"
      ]
     },
     "execution_count": 55,
     "metadata": {},
     "output_type": "execute_result"
    }
   ],
   "source": [
    "pts = pts.reshape((-1,1,2))\n",
    "pts = pts.astype(int)\n",
    "pts"
   ]
  },
  {
   "cell_type": "code",
   "execution_count": 28,
   "id": "99d94ec8-8454-4df8-a496-6fdf22c7fa61",
   "metadata": {},
   "outputs": [
    {
     "ename": "SyntaxError",
     "evalue": "unexpected EOF while parsing (1193701652.py, line 1)",
     "output_type": "error",
     "traceback": [
      "\u001b[1;36m  Input \u001b[1;32mIn [28]\u001b[1;36m\u001b[0m\n\u001b[1;33m    pts[0][1\u001b[0m\n\u001b[1;37m            ^\u001b[0m\n\u001b[1;31mSyntaxError\u001b[0m\u001b[1;31m:\u001b[0m unexpected EOF while parsing\n"
     ]
    }
   ],
   "source": []
  },
  {
   "cell_type": "code",
   "execution_count": 40,
   "id": "0450b641-15ea-4a29-8454-9afa9b6a4a84",
   "metadata": {},
   "outputs": [
    {
     "data": {
      "text/plain": [
       "[[0.5514724254608154, 0.3520905375480652],\n",
       " [0.46924370527267456, 0.34643998742103577],\n",
       " [0.6479094624519348, 0.4485275447368622],\n",
       " [0.5307562947273254, 0.6535599827766418]]"
      ]
     },
     "execution_count": 40,
     "metadata": {},
     "output_type": "execute_result"
    }
   ],
   "source": [
    "list(map(lambda j : j[::-1] , a))"
   ]
  },
  {
   "cell_type": "code",
   "execution_count": 35,
   "id": "bc167ad5-be30-448f-a099-74df8723d8cb",
   "metadata": {},
   "outputs": [
    {
     "name": "stdout",
     "output_type": "stream",
     "text": [
      "[0.3520905375480652, 0.5514724254608154]\n"
     ]
    }
   ],
   "source": [
    "a = cornerpoints[0][0][::-1]\n",
    "\n",
    "print(a)"
   ]
  },
  {
   "cell_type": "code",
   "execution_count": null,
   "id": "f98a906b-b069-4264-a51e-53cdad841768",
   "metadata": {},
   "outputs": [],
   "source": []
  },
  {
   "cell_type": "code",
   "execution_count": null,
   "id": "23859d7d-5673-407e-8985-72a311530de4",
   "metadata": {},
   "outputs": [],
   "source": [
    "x = np.random.randint(low=0, high=len(path))\n",
    "\n",
    "img = cv.imread(os.path.join(DIR,path[x]))\n",
    "gray = cv.cvtColor(img, cv.COLOR_BGR2GRAY)\n",
    "#blank = np.zeros((200,200,3), dtype='uint8')\n",
    "pts = np.array(256*cornerpoints[x], np.int32)\n",
    "pts = pts.reshape((-1,1,2))\n",
    "cv.polylines(img,[pts],True,(0,255,0),thickness=2)\n",
    "\n",
    "\n",
    "cv.imshow('sample', img)\n",
    "\n",
    "cv.waitKey(0)\n",
    "\n",
    "\n",
    "\n",
    "\n",
    "\n"
   ]
  },
  {
   "cell_type": "code",
   "execution_count": null,
   "id": "4523e330-725b-497b-aee4-0e5c0b48397a",
   "metadata": {},
   "outputs": [],
   "source": [
    "gray.shape()"
   ]
  },
  {
   "cell_type": "code",
   "execution_count": 5,
   "id": "016d64aa-0053-46cc-a8e0-5b34019f81ac",
   "metadata": {},
   "outputs": [],
   "source": [
    "a='skdfb\\knsdjv'"
   ]
  },
  {
   "cell_type": "code",
   "execution_count": 6,
   "id": "d3e3f54c-ce33-4d47-a5d2-165fba643403",
   "metadata": {},
   "outputs": [
    {
     "data": {
      "text/plain": [
       "'skdfb\\\\knsdjv'"
      ]
     },
     "execution_count": 6,
     "metadata": {},
     "output_type": "execute_result"
    }
   ],
   "source": [
    "a\n"
   ]
  },
  {
   "cell_type": "code",
   "execution_count": 7,
   "id": "fcf39735-b401-4f0a-bcc1-4dfec193308c",
   "metadata": {},
   "outputs": [
    {
     "data": {
      "text/plain": [
       "'knsdjv'"
      ]
     },
     "execution_count": 7,
     "metadata": {},
     "output_type": "execute_result"
    }
   ],
   "source": [
    "a.split('\\\\')[1]"
   ]
  },
  {
   "cell_type": "code",
   "execution_count": null,
   "id": "b0827f05-6f3f-4c74-b58a-09460ef0a584",
   "metadata": {},
   "outputs": [],
   "source": []
  }
 ],
 "metadata": {
  "kernelspec": {
   "display_name": "Python 3.8.13 ('box')",
   "language": "python",
   "name": "python3"
  },
  "language_info": {
   "codemirror_mode": {
    "name": "ipython",
    "version": 3
   },
   "file_extension": ".py",
   "mimetype": "text/x-python",
   "name": "python",
   "nbconvert_exporter": "python",
   "pygments_lexer": "ipython3",
   "version": "3.8.13"
  },
  "vscode": {
   "interpreter": {
    "hash": "87eb0857ccd53e8f19098e7fc2574c5e15085de99539f32e1616ceea80fff792"
   }
  }
 },
 "nbformat": 4,
 "nbformat_minor": 5
}
