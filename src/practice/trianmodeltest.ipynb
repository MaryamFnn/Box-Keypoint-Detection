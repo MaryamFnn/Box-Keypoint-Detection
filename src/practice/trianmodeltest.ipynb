{
 "cells": [
  {
   "cell_type": "code",
   "execution_count": 5,
   "id": "a0e25cd4-0049-43ee-9a74-9816064b7421",
   "metadata": {},
   "outputs": [],
   "source": [
    "import torch\n",
    "import torch.nn as nn\n",
    "import torch.nn.functional as F\n",
    "import torch.nn.init as I\n",
    "from torchvision import models\n",
    "from torch.nn.modules.activation import Sigmoid\n",
    "from torch.nn.modules.pooling import AdaptiveAvgPool2d"
   ]
  },
  {
   "cell_type": "code",
   "execution_count": 6,
   "id": "eb6e1e38-df7d-4259-a87e-fa449a63b55a",
   "metadata": {},
   "outputs": [],
   "source": [
    "class MyNet(nn.Module):\n",
    "    def __init__(self):\n",
    "        super(Net, self).__init__()\n",
    "        \n",
    "        self.maxpool = nn.Maxpool2d(2,2)\n",
    "        \n",
    "        self.dropout = nn.Dropout(p=0.2)\n",
    "        \n",
    "        self.conv1 = nn.Conv2d(1, 32, 5)\n",
    "        self.conv2 = nn.Conv2d(32, 64, 3)\n",
    "        self.conv3 = nn.Conv2d(64, 128, 3)\n",
    "        \n",
    "        #output layer\n",
    "        self.fc1 = nn.Linear(128*26*26, 8)\n",
    "        \n",
    "    def forward(self, x):\n",
    "        \n",
    "        x = self.maxpool(F.relu(self.conv1(x)))\n",
    "        x = self.maxpool(F.relu(self.conv2(x)))\n",
    "        x = self.maxpool(F.relu(self.conv3(x)))\n",
    "        \n",
    "        print(x.size())\n",
    "        #flattening x tensor\n",
    "        x = x.view(x.size(0), -1)\n",
    "        \n",
    "        #applying dropout\n",
    "        x = self.dropout(x)\n",
    "     \n",
    "        #passing x through linear layer\n",
    "        x = self.fc1(x)\n",
    "        \n",
    "        return x\n",
    "        "
   ]
  },
  {
   "cell_type": "code",
   "execution_count": null,
   "id": "81ae66b0-1a05-4b05-9f8d-6b227cf52c7b",
   "metadata": {},
   "outputs": [],
   "source": []
  }
 ],
 "metadata": {
  "kernelspec": {
   "display_name": "Python [conda env:box]",
   "language": "python",
   "name": "conda-env-box-py"
  },
  "language_info": {
   "codemirror_mode": {
    "name": "ipython",
    "version": 3
   },
   "file_extension": ".py",
   "mimetype": "text/x-python",
   "name": "python",
   "nbconvert_exporter": "python",
   "pygments_lexer": "ipython3",
   "version": "3.8.13"
  }
 },
 "nbformat": 4,
 "nbformat_minor": 5
}
